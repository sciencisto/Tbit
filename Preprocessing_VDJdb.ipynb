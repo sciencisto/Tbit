version https://git-lfs.github.com/spec/v1
oid sha256:f99f583b90bb4317b79c03ed79024ed0816d95a70645e8edbe3b1c8162cf077a
size 355851
