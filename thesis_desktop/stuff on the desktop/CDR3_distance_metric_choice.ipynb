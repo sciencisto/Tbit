version https://git-lfs.github.com/spec/v1
oid sha256:a03ce7c9ec3cff4d2efb150b838ce42f52692afb02c8e13c126376fa6f91ec3d
size 70589
