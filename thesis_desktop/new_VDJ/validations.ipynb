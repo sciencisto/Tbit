version https://git-lfs.github.com/spec/v1
oid sha256:295e72ca9ad212a403dc4e8a97b7e5cdd7dcae1aad7a486ccbc962a34d5bf0b7
size 5208316
