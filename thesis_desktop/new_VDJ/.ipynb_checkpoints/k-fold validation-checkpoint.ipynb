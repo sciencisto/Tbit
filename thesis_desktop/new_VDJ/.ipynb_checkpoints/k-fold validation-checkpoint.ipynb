version https://git-lfs.github.com/spec/v1
oid sha256:666ac5a6a321a99a3b63ed1bea227b7bc7b3677f42445ff85e171ba299c14961
size 1030333
