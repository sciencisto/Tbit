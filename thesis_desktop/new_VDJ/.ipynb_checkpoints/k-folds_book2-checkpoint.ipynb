version https://git-lfs.github.com/spec/v1
oid sha256:b9d471a694e9d4cbcb13607dc3d3af62c82326a7d7f8c3547dbd68bf9680212c
size 15497608
