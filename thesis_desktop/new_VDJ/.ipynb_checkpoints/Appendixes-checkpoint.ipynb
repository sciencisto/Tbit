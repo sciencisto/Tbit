version https://git-lfs.github.com/spec/v1
oid sha256:e8e3acd05f33a1f1c615c8d9b9f92ec5b8cb7999019f6883eeeb7912a1ad4e0d
size 111599
