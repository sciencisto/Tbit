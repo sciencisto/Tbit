version https://git-lfs.github.com/spec/v1
oid sha256:7c47b99e97534b8ff0a8f7f6912bccbd68d6652e241525487e32766ecee55b56
size 54969
